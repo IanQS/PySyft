{
 "cells": [
  {
   "cell_type": "code",
   "execution_count": 1,
   "metadata": {},
   "outputs": [
    {
     "name": "stdout",
     "output_type": "stream",
     "text": [
      "assigning id:<UID:654240ab-1fa7-4c34-a855-a718dcbd65cd> type:<class 'torch.Tensor'>\n",
      "setting attr:TensorPointer\n",
      "setting attr:LinearPointer\n",
      "setting attr:ndarrayPointer\n",
      "setting attr:arrayPointer\n"
     ]
    }
   ],
   "source": [
    "import syft as sy"
   ]
  },
  {
   "cell_type": "markdown",
   "metadata": {},
   "source": [
    "### Test 1: Send a Message from a VM Client to a VM"
   ]
  },
  {
   "cell_type": "code",
   "execution_count": 2,
   "metadata": {},
   "outputs": [
    {
     "name": "stdout",
     "output_type": "stream",
     "text": [
      "setting attr:TensorPointer\n",
      "setting attr:LinearPointer\n",
      "setting attr:ndarrayPointer\n",
      "setting attr:arrayPointer\n"
     ]
    }
   ],
   "source": [
    "bob_vm = sy.VirtualMachine(name=\"Bob\")\n",
    "bob_vm_client = bob_vm.get_client()"
   ]
  },
  {
   "cell_type": "code",
   "execution_count": 3,
   "metadata": {},
   "outputs": [],
   "source": [
    "assert bob_vm.device is None"
   ]
  },
  {
   "cell_type": "code",
   "execution_count": 4,
   "metadata": {},
   "outputs": [
    {
     "name": "stdout",
     "output_type": "stream",
     "text": [
      "the message is for me!!!\n",
      "VirtualMachine:Bob:<UID:79e3ad85-f721-426d-825e-d61421bced18>\n"
     ]
    }
   ],
   "source": [
    "bob_vm_client.send_immediate_msg_without_reply(msg=sy.ReprMessage(address=bob_vm_client))"
   ]
  },
  {
   "cell_type": "markdown",
   "metadata": {},
   "source": [
    "### Test 2: Send a message from a Device Client to a Device"
   ]
  },
  {
   "cell_type": "code",
   "execution_count": 5,
   "metadata": {},
   "outputs": [
    {
     "name": "stdout",
     "output_type": "stream",
     "text": [
      "setting attr:TensorPointer\n",
      "setting attr:LinearPointer\n",
      "setting attr:ndarrayPointer\n",
      "setting attr:arrayPointer\n"
     ]
    }
   ],
   "source": [
    "bob_phone = sy.Device(name=\"Bob's iPhone\")\n",
    "bob_phone_client = bob_phone.get_client()"
   ]
  },
  {
   "cell_type": "code",
   "execution_count": 6,
   "metadata": {},
   "outputs": [],
   "source": [
    "msg = sy.ReprMessage(address=bob_phone_client)"
   ]
  },
  {
   "cell_type": "code",
   "execution_count": 7,
   "metadata": {},
   "outputs": [],
   "source": [
    "def print_path(path):\n",
    "    output = \"\"\n",
    "    indent = 0\n",
    "    for item in path:\n",
    "        tabs = \"\".join([\"\\t\"] * indent)\n",
    "        output += f\"{tabs}{item}\\n\"\n",
    "        indent += 1\n",
    "    print(output)"
   ]
  },
  {
   "cell_type": "code",
   "execution_count": 8,
   "metadata": {},
   "outputs": [
    {
     "name": "stdout",
     "output_type": "stream",
     "text": [
      "<DeviceClient:<SpecificLocation:0ba184d2-776b-44a3-adf7-08dc81447579>>\n",
      "\t<SoloRoute:0f908dde-2356-4ee6-b464-a217342e138b>\n",
      "\t\t<syft.core.io.virtual.VirtualClientConnection object at 0x7f9721291cd0>\n",
      "\t\t\t<syft.core.io.virtual.VirtualServerConnection object at 0x7f9721291a90>\n",
      "\t\t\t\tDevice:Bob's iPhone:<UID:0ba184d2-776b-44a3-adf7-08dc81447579>\n",
      "\n",
      "the message is for me!!!\n",
      "Device:Bob's iPhone:<UID:0ba184d2-776b-44a3-adf7-08dc81447579>\n"
     ]
    }
   ],
   "source": [
    "# bobs client has a SoloRoute with a VirtualClientConnection to VirtualServerConnection to bobs_phone\n",
    "path = [bob_phone_client, bob_phone_client.routes[0], bob_phone_client.routes[0].connection, bob_phone_client.routes[0].connection.server, bob_phone_client.routes[0].connection.server.node]\n",
    "print_path(path)\n",
    "\n",
    "bob_phone_client.send_immediate_msg_without_reply(msg=sy.ReprMessage(address=bob_phone_client))"
   ]
  },
  {
   "cell_type": "markdown",
   "metadata": {},
   "source": [
    "### Test 2.1: Register a VM on a Device"
   ]
  },
  {
   "cell_type": "code",
   "execution_count": 9,
   "metadata": {},
   "outputs": [
    {
     "name": "stdout",
     "output_type": "stream",
     "text": [
      "Device:Bob's iPhone:<UID:0ba184d2-776b-44a3-adf7-08dc81447579>\n",
      "<SpecificLocation:0ba184d2-776b-44a3-adf7-08dc81447579>\n",
      "<SpecificLocation:0ba184d2-776b-44a3-adf7-08dc81447579>\n",
      "<VirtualMachineClient id:Bob>\n",
      "<SpecificLocation:79e3ad85-f721-426d-825e-d61421bced18>\n",
      "None\n"
     ]
    }
   ],
   "source": [
    "print(bob_phone_client.routes[0].connection.server.node)\n",
    "print(bob_phone_client.routes[0].connection.server.node.device)\n",
    "print(bob_phone_client.device)\n",
    "print(bob_vm_client)\n",
    "print(bob_vm_client.vm)\n",
    "print(bob_vm_client.device) # no device on the vm client yet"
   ]
  },
  {
   "cell_type": "code",
   "execution_count": 10,
   "metadata": {},
   "outputs": [
    {
     "name": "stdout",
     "output_type": "stream",
     "text": [
      "the message is for me!!!\n",
      "the message is for me!!!\n",
      "Updating to Device:Bob's iPhone:<UID:0ba184d2-776b-44a3-adf7-08dc81447579> on node VirtualMachine:Bob:<UID:79e3ad85-f721-426d-825e-d61421bced18>\n",
      "child nodes of:Bob\n"
     ]
    }
   ],
   "source": [
    "bob_phone_client.register(client=bob_vm_client)"
   ]
  },
  {
   "cell_type": "code",
   "execution_count": 11,
   "metadata": {},
   "outputs": [
    {
     "name": "stdout",
     "output_type": "stream",
     "text": [
      "{<UID:79e3ad85-f721-426d-825e-d61421bced18>: <Storable:<VirtualMachineClient id:Bob>>}\n"
     ]
    }
   ],
   "source": [
    "print(bob_phone.store) # bob_vm_client.id is now stored on the device\n",
    "assert bob_phone.store[bob_vm_client.id].data == bob_vm_client"
   ]
  },
  {
   "cell_type": "markdown",
   "metadata": {},
   "source": [
    "### Test 2.2 Test that registration updated \"address\" variable of VM"
   ]
  },
  {
   "cell_type": "code",
   "execution_count": 12,
   "metadata": {},
   "outputs": [
    {
     "name": "stdout",
     "output_type": "stream",
     "text": [
      "<SpecificLocation:0ba184d2-776b-44a3-adf7-08dc81447579>\n"
     ]
    }
   ],
   "source": [
    "assert bob_vm.device is not None\n",
    "assert bob_vm.device.id == bob_phone_client.device.id\n",
    "print(bob_vm.device)"
   ]
  },
  {
   "cell_type": "code",
   "execution_count": 13,
   "metadata": {},
   "outputs": [
    {
     "name": "stdout",
     "output_type": "stream",
     "text": [
      "<SpecificLocation:0ba184d2-776b-44a3-adf7-08dc81447579>\n"
     ]
    }
   ],
   "source": [
    "assert bob_vm_client.device is not None\n",
    "assert bob_vm_client.device.id == bob_phone_client.device.id\n",
    "print(bob_vm_client.device)"
   ]
  },
  {
   "cell_type": "markdown",
   "metadata": {},
   "source": [
    "### Test 3: Send a message from a Device Client to a VM"
   ]
  },
  {
   "cell_type": "code",
   "execution_count": 14,
   "metadata": {},
   "outputs": [
    {
     "name": "stdout",
     "output_type": "stream",
     "text": [
      "Device:Bob's iPhone:<UID:0ba184d2-776b-44a3-adf7-08dc81447579>\n",
      "<SpecificLocation:0ba184d2-776b-44a3-adf7-08dc81447579>\n",
      "<SpecificLocation:0ba184d2-776b-44a3-adf7-08dc81447579>\n",
      "<VirtualMachineClient id:Bob>\n",
      "<SpecificLocation:79e3ad85-f721-426d-825e-d61421bced18>\n",
      "<SpecificLocation:0ba184d2-776b-44a3-adf7-08dc81447579>\n"
     ]
    }
   ],
   "source": [
    "print(bob_phone_client.routes[0].connection.server.node)\n",
    "print(bob_phone_client.routes[0].connection.server.node.device)\n",
    "print(bob_phone_client.device)\n",
    "print(bob_vm_client)\n",
    "print(bob_vm_client.vm)\n",
    "print(bob_vm_client.device)"
   ]
  },
  {
   "cell_type": "code",
   "execution_count": 15,
   "metadata": {},
   "outputs": [
    {
     "name": "stdout",
     "output_type": "stream",
     "text": [
      "<UID:0ba184d2-776b-44a3-adf7-08dc81447579>\n",
      "<UID:79e3ad85-f721-426d-825e-d61421bced18>\n"
     ]
    }
   ],
   "source": [
    "print(bob_phone_client.id) # phone client id is phone device\n",
    "print(bob_vm_client.id) # vm client id is vm"
   ]
  },
  {
   "cell_type": "code",
   "execution_count": 16,
   "metadata": {},
   "outputs": [
    {
     "name": "stdout",
     "output_type": "stream",
     "text": [
      "<DeviceClient:<SpecificLocation:0ba184d2-776b-44a3-adf7-08dc81447579>>\n",
      "\t<SoloRoute:0f908dde-2356-4ee6-b464-a217342e138b>\n",
      "\t\t<syft.core.io.virtual.VirtualClientConnection object at 0x7f9721291cd0>\n",
      "\t\t\t<syft.core.io.virtual.VirtualServerConnection object at 0x7f9721291a90>\n",
      "\t\t\t\tDevice:Bob's iPhone:<UID:0ba184d2-776b-44a3-adf7-08dc81447579>\n",
      "\t\t\t\t\t<syft.core.node.common.service.msg_forwarding_service.MessageWithoutReplyForwardingService object at 0x7f9721291e20>\n",
      "\t\t\t\t\t\t<VirtualMachineClient id:Bob>\n",
      "\n",
      "the message is not for me... <UID:0ba184d2-776b-44a3-adf7-08dc81447579>\n",
      "<UID:79e3ad85-f721-426d-825e-d61421bced18>\n",
      "the message is for me!!!\n",
      "VirtualMachine:Bob:<UID:79e3ad85-f721-426d-825e-d61421bced18>\n"
     ]
    }
   ],
   "source": [
    "# bobs client has a SoloRoute with a VirtualClientConnection to VirtualServerConnection to bobs_phone\n",
    "path = [\n",
    "    bob_phone_client,\n",
    "    bob_phone_client.routes[0],\n",
    "    bob_phone_client.routes[0].connection,\n",
    "    bob_phone_client.routes[0].connection.server,\n",
    "    bob_phone_client.routes[0].connection.server.node,\n",
    "    bob_phone_client.routes[0].connection.server.node.message_without_reply_forwarding_service,\n",
    "    bob_phone_client.routes[0].connection.server.node.store[bob_vm_client.id].data\n",
    "]\n",
    "print_path(path)\n",
    "\n",
    "bob_phone_client.send_immediate_msg_without_reply(msg=sy.ReprMessage(address=bob_vm_client))"
   ]
  },
  {
   "cell_type": "markdown",
   "metadata": {},
   "source": [
    "### Test 4: Send a message from a Domain Client to a VM"
   ]
  },
  {
   "cell_type": "code",
   "execution_count": 17,
   "metadata": {},
   "outputs": [],
   "source": [
    "import syft as sy"
   ]
  },
  {
   "cell_type": "code",
   "execution_count": 18,
   "metadata": {},
   "outputs": [
    {
     "name": "stdout",
     "output_type": "stream",
     "text": [
      "setting attr:TensorPointer\n",
      "setting attr:LinearPointer\n",
      "setting attr:ndarrayPointer\n",
      "setting attr:arrayPointer\n"
     ]
    }
   ],
   "source": [
    "bob_domain = sy.Domain(name=\"Bob's Domain\")\n",
    "bob_domain_client = bob_domain.get_client()"
   ]
  },
  {
   "cell_type": "code",
   "execution_count": 19,
   "metadata": {},
   "outputs": [
    {
     "name": "stdout",
     "output_type": "stream",
     "text": [
      "the message is for me!!!\n",
      "the message is for me!!!\n",
      "Updating to Domain:Bob's Domain:<UID:42e9a23c-7356-4ff9-9e08-00497efacfd6> on node Device:Bob's iPhone:<UID:0ba184d2-776b-44a3-adf7-08dc81447579>\n",
      "child nodes of:Bob's iPhone\n",
      "\tBob\n",
      "the message is for me!!!\n",
      "Updating to Domain:Bob's Domain:<UID:42e9a23c-7356-4ff9-9e08-00497efacfd6> on node VirtualMachine:Bob:<UID:79e3ad85-f721-426d-825e-d61421bced18>\n",
      "child nodes of:Bob\n"
     ]
    }
   ],
   "source": [
    "bob_domain_client.register(client=bob_phone_client)"
   ]
  },
  {
   "cell_type": "code",
   "execution_count": 20,
   "metadata": {},
   "outputs": [
    {
     "name": "stdout",
     "output_type": "stream",
     "text": [
      "the message is not for me... <UID:42e9a23c-7356-4ff9-9e08-00497efacfd6>\n",
      "<UID:79e3ad85-f721-426d-825e-d61421bced18>\n",
      "the message is not for me... <UID:0ba184d2-776b-44a3-adf7-08dc81447579>\n",
      "<UID:79e3ad85-f721-426d-825e-d61421bced18>\n",
      "the message is for me!!!\n",
      "VirtualMachine:Bob:<UID:79e3ad85-f721-426d-825e-d61421bced18>\n"
     ]
    }
   ],
   "source": [
    "bob_domain_client.send_immediate_msg_without_reply(msg=sy.ReprMessage(address=bob_vm))"
   ]
  },
  {
   "cell_type": "markdown",
   "metadata": {},
   "source": [
    "### Test 5: Send a message from Network Client to a VM"
   ]
  },
  {
   "cell_type": "code",
   "execution_count": 21,
   "metadata": {},
   "outputs": [
    {
     "name": "stdout",
     "output_type": "stream",
     "text": [
      "setting attr:TensorPointer\n",
      "setting attr:LinearPointer\n",
      "setting attr:ndarrayPointer\n",
      "setting attr:arrayPointer\n"
     ]
    }
   ],
   "source": [
    "bob_network = sy.Network(name=\"Bob's Network\")\n",
    "bob_network_client = bob_network.get_client()"
   ]
  },
  {
   "cell_type": "code",
   "execution_count": 22,
   "metadata": {},
   "outputs": [
    {
     "name": "stdout",
     "output_type": "stream",
     "text": [
      "the message is for me!!!\n",
      "the message is for me!!!\n",
      "Updating to Network:Bob's Network:<UID:c1f00c70-cd73-4f5a-bccf-795ed7978d5d> on node Domain:Bob's Domain:<UID:42e9a23c-7356-4ff9-9e08-00497efacfd6>\n",
      "child nodes of:Bob's Domain\n",
      "\tBob's iPhone\n",
      "the message is for me!!!\n",
      "Updating to Network:Bob's Network:<UID:c1f00c70-cd73-4f5a-bccf-795ed7978d5d> on node Device:Bob's iPhone:<UID:0ba184d2-776b-44a3-adf7-08dc81447579>\n",
      "child nodes of:Bob's iPhone\n",
      "\tBob\n",
      "the message is for me!!!\n",
      "Updating to Network:Bob's Network:<UID:c1f00c70-cd73-4f5a-bccf-795ed7978d5d> on node VirtualMachine:Bob:<UID:79e3ad85-f721-426d-825e-d61421bced18>\n",
      "child nodes of:Bob\n"
     ]
    }
   ],
   "source": [
    "bob_network_client.register(client=bob_domain_client)"
   ]
  },
  {
   "cell_type": "code",
   "execution_count": 23,
   "metadata": {},
   "outputs": [
    {
     "name": "stdout",
     "output_type": "stream",
     "text": [
      "the message is not for me... <UID:c1f00c70-cd73-4f5a-bccf-795ed7978d5d>\n",
      "<UID:79e3ad85-f721-426d-825e-d61421bced18>\n",
      "the message is not for me... <UID:42e9a23c-7356-4ff9-9e08-00497efacfd6>\n",
      "<UID:79e3ad85-f721-426d-825e-d61421bced18>\n",
      "the message is not for me... <UID:0ba184d2-776b-44a3-adf7-08dc81447579>\n",
      "<UID:79e3ad85-f721-426d-825e-d61421bced18>\n",
      "the message is for me!!!\n",
      "VirtualMachine:Bob:<UID:79e3ad85-f721-426d-825e-d61421bced18>\n"
     ]
    }
   ],
   "source": [
    "bob_network_client.send_immediate_msg_without_reply(msg=sy.ReprMessage(address=bob_vm))"
   ]
  },
  {
   "cell_type": "markdown",
   "metadata": {},
   "source": [
    "### Test 5: Use VM Client wtih Torch Tensor"
   ]
  },
  {
   "cell_type": "code",
   "execution_count": 24,
   "metadata": {},
   "outputs": [
    {
     "name": "stdout",
     "output_type": "stream",
     "text": [
      "<class 'syft.core.node.network.client.NetworkClient'>\n",
      "[<SoloRoute:26cde9b1-de53-4088-8b4a-a8ac04654aeb>]\n",
      "<SoloRoute:26cde9b1-de53-4088-8b4a-a8ac04654aeb>\n",
      "<syft.core.io.virtual.VirtualClientConnection object at 0x7f9700584c10>\n"
     ]
    }
   ],
   "source": [
    "print(type(bob_network_client))\n",
    "print(bob_network_client.routes)\n",
    "print(bob_network_client.routes[0])\n",
    "print(bob_network_client.routes[0].connection)"
   ]
  },
  {
   "cell_type": "markdown",
   "metadata": {},
   "source": [
    "### Authorized Messages"
   ]
  },
  {
   "cell_type": "code",
   "execution_count": 25,
   "metadata": {},
   "outputs": [],
   "source": [
    "from syft.core.node.common.service.authorized_service import HelloRootRequest\n",
    "from nacl.signing import SigningKey, VerifyKey\n",
    "\n",
    "bobs_signing_key = SigningKey.generate()\n",
    "bobs_verification_key = bobs_signing_key.verify_key\n",
    "print(bobs_signing_key) # private dont share with anyone\n",
    "print(bobs_verification_key) # public give to anyone who needs to verify your messages"
   ]
  },
  {
   "cell_type": "code",
   "execution_count": 26,
   "metadata": {},
   "outputs": [
    {
     "name": "stdout",
     "output_type": "stream",
     "text": [
      "b'\\x01)\\xdb\\xc8\\x8b$;a=\\xb4\\x02\\xe3\\x1d\\xac\\xc4K\\xd4\\xcbssx\\xad\\xdb\\xcd\\xe4j\\xbc\\x92\\xdfY-\\xfb'\n",
      "b\"h\\x8c\\xaa\\x06R\\xa4J\\\\\\xcbI\\x0cbj\\xe5\\xca\\xd7\\x175'hYj:k\\xda\\x18\\x1d]\\xbd\\xee\\x13\\x8f\"\n"
     ]
    }
   ],
   "source": []
  },
  {
   "cell_type": "code",
   "execution_count": 27,
   "metadata": {},
   "outputs": [],
   "source": [
    "secure_msg = HelloRootRequest(username=\"bob\", reply_to=bob_phone_client, address=bob_phone)"
   ]
  },
  {
   "cell_type": "code",
   "execution_count": 28,
   "metadata": {},
   "outputs": [
    {
     "name": "stdout",
     "output_type": "stream",
     "text": [
      "b'{\"objType\": \"syft.core.node.common.service.authorized_service.HelloRootRequest\", \"content\": \"{\\\\\"username\\\\\": \\\\\"bob\\\\\", \\\\\"replyTo\\\\\": {\\\\\"hasDomain\\\\\": true, \\\\\"domain\\\\\": {\\\\\"id\\\\\": {\\\\\"value\\\\\": \\\\\"QumiPHNWT/meCABJfvrP1g==\\\\\"}}, \\\\\"hasDevice\\\\\": true, \\\\\"device\\\\\": {\\\\\"id\\\\\": {\\\\\"value\\\\\": \\\\\"C6GE0ndrRKOt9wjcgUR1eQ==\\\\\"}}}, \\\\\"address\\\\\": {\\\\\"hasNetwork\\\\\": true, \\\\\"network\\\\\": {\\\\\"id\\\\\": {\\\\\"value\\\\\": \\\\\"wfAMcM1zT1q8z3le15eNXQ==\\\\\"}}, \\\\\"hasDomain\\\\\": true, \\\\\"domain\\\\\": {\\\\\"id\\\\\": {\\\\\"value\\\\\": \\\\\"QumiPHNWT/meCABJfvrP1g==\\\\\"}}, \\\\\"hasDevice\\\\\": true, \\\\\"device\\\\\": {\\\\\"id\\\\\": {\\\\\"value\\\\\": \\\\\"C6GE0ndrRKOt9wjcgUR1eQ==\\\\\"}}}, \\\\\"msgId\\\\\": {\\\\\"value\\\\\": \\\\\"kwDxKbGlSXuf7JItR/v9Ww==\\\\\"}}\"}'\n",
      "<class 'bytes'>\n"
     ]
    }
   ],
   "source": [
    "sm = secure_msg.serialize(to_binary=True)\n",
    "print(sm)\n",
    "print(type(sm))"
   ]
  },
  {
   "cell_type": "code",
   "execution_count": 29,
   "metadata": {},
   "outputs": [
    {
     "name": "stdout",
     "output_type": "stream",
     "text": [
      "<HelloRootRequest:9300f129-b1a5-497b-9fec-922d47fbfd5b>\n",
      "<class 'syft.core.node.common.service.authorized_service.HelloRootRequest'>\n"
     ]
    }
   ],
   "source": [
    "dm = sy.deserialize(blob=sm, from_binary=True)\n",
    "print(dm)\n",
    "print(type(dm))"
   ]
  },
  {
   "cell_type": "code",
   "execution_count": 30,
   "metadata": {},
   "outputs": [
    {
     "name": "stdout",
     "output_type": "stream",
     "text": [
      "Device:Bob's iPhone:<UID:0ba184d2-776b-44a3-adf7-08dc81447579>\n"
     ]
    }
   ],
   "source": [
    "signed_msg = secure_msg.sign_message(signing_key=bobs_signing_key)\n",
    "signed_msg.address = secure_msg.address\n",
    "print(signed_msg.address)"
   ]
  },
  {
   "cell_type": "code",
   "execution_count": 31,
   "metadata": {},
   "outputs": [
    {
     "name": "stdout",
     "output_type": "stream",
     "text": [
      "Device:Bob's iPhone:<UID:0ba184d2-776b-44a3-adf7-08dc81447579> <HelloRootRequest:9300f129-b1a5-497b-9fec-922d47fbfd5b>\n",
      "<syft.core.common.message.SignedMessage object at 0x7f970058af10>\n",
      "Hello bob\n"
     ]
    }
   ],
   "source": [
    "sig_hello = bob_phone_client.send_signed_msg_with_reply(msg=signed_msg)\n",
    "print(sig_hello)\n",
    "\n",
    "hello = sig_hello.inner_message()\n",
    "print(hello.message)"
   ]
  },
  {
   "cell_type": "code",
   "execution_count": 32,
   "metadata": {},
   "outputs": [],
   "source": [
    "# make a tampered message\n",
    "tampered_msg = secure_msg.sign_message(signing_key=bobs_signing_key)\n",
    "tampered_msg.address = secure_msg.address\n",
    "tampered_msg.signature += b\"a\""
   ]
  },
  {
   "cell_type": "code",
   "execution_count": 33,
   "metadata": {},
   "outputs": [
    {
     "name": "stdout",
     "output_type": "stream",
     "text": [
      "Device:Bob's iPhone:<UID:0ba184d2-776b-44a3-adf7-08dc81447579> <HelloRootRequest:9300f129-b1a5-497b-9fec-922d47fbfd5b>\n",
      "<syft.core.common.message.SignedMessage object at 0x7f9700592ee0>\n",
      "Unauthorized. Go away bob!\n"
     ]
    }
   ],
   "source": [
    "sig_hello = bob_phone_client.send_signed_msg_with_reply(msg=tampered_msg)\n",
    "print(sig_hello)\n",
    "\n",
    "hello = sig_hello.inner_message(allow_invalid=True)\n",
    "print(hello.message)"
   ]
  },
  {
   "cell_type": "markdown",
   "metadata": {},
   "source": [
    "# Auth signing any message"
   ]
  },
  {
   "cell_type": "code",
   "execution_count": 62,
   "metadata": {},
   "outputs": [],
   "source": [
    "from syft.core.node.common.service.repr_service import ReprMessage"
   ]
  },
  {
   "cell_type": "code",
   "execution_count": 65,
   "metadata": {},
   "outputs": [
    {
     "name": "stdout",
     "output_type": "stream",
     "text": [
      "setting attr:TensorPointer\n",
      "setting attr:LinearPointer\n",
      "setting attr:ndarrayPointer\n",
      "setting attr:arrayPointer\n"
     ]
    }
   ],
   "source": [
    "bob = sy.VirtualMachine(name=\"bob\")\n",
    "bobc = bob.get_client()"
   ]
  },
  {
   "cell_type": "code",
   "execution_count": 66,
   "metadata": {},
   "outputs": [],
   "source": [
    "msg = ReprMessage(address=bobc)"
   ]
  },
  {
   "cell_type": "code",
   "execution_count": null,
   "metadata": {},
   "outputs": [],
   "source": [
    "from syft.core.node.common.service.authorized_service import HelloRootRequest\n",
    "from nacl.signing import SigningKey, VerifyKey\n",
    "\n",
    "bobs_signing_key = SigningKey.generate()\n",
    "bobs_verification_key = bobs_signing_key.verify_key\n",
    "print(bobs_signing_key) # private dont share with anyone\n",
    "print(bobs_verification_key) # public give to anyone who needs to verify your messages"
   ]
  },
  {
   "cell_type": "code",
   "execution_count": null,
   "metadata": {},
   "outputs": [],
   "source": []
  },
  {
   "cell_type": "code",
   "execution_count": null,
   "metadata": {},
   "outputs": [],
   "source": []
  },
  {
   "cell_type": "code",
   "execution_count": null,
   "metadata": {},
   "outputs": [],
   "source": []
  },
  {
   "cell_type": "code",
   "execution_count": null,
   "metadata": {},
   "outputs": [],
   "source": []
  },
  {
   "cell_type": "code",
   "execution_count": 34,
   "metadata": {},
   "outputs": [
    {
     "name": "stdout",
     "output_type": "stream",
     "text": [
      "setting attr:TensorPointer\n",
      "setting attr:LinearPointer\n",
      "setting attr:ndarrayPointer\n",
      "setting attr:arrayPointer\n"
     ]
    }
   ],
   "source": [
    "import syft as sy\n",
    "alice = sy.VirtualMachine(name=\"alice\")\n",
    "alice_client = alice.get_client()"
   ]
  },
  {
   "cell_type": "code",
   "execution_count": 35,
   "metadata": {},
   "outputs": [],
   "source": [
    "import torch as th"
   ]
  },
  {
   "cell_type": "code",
   "execution_count": 36,
   "metadata": {},
   "outputs": [
    {
     "name": "stdout",
     "output_type": "stream",
     "text": [
      "assigning id:<UID:a9e8eaf9-c2ac-4418-bf22-8e0652c2184d> type:<class 'torch.Tensor'>\n",
      "Wrapped tensor with id:<UID:a9e8eaf9-c2ac-4418-bf22-8e0652c2184d>\n",
      "assigning id:<UID:5ebe8095-974a-4fbd-b553-316701950218> type:<class 'torch.Tensor'>\n"
     ]
    }
   ],
   "source": [
    "x = th.tensor([1,2,3,4])\n",
    "\n",
    "blob = x.serialize()\n",
    "\n",
    "x2 = sy.deserialize(blob=blob)\n",
    "\n",
    "assert (x == x2).all()"
   ]
  },
  {
   "cell_type": "code",
   "execution_count": null,
   "metadata": {},
   "outputs": [],
   "source": []
  },
  {
   "cell_type": "code",
   "execution_count": null,
   "metadata": {},
   "outputs": [],
   "source": []
  },
  {
   "cell_type": "code",
   "execution_count": null,
   "metadata": {},
   "outputs": [],
   "source": []
  },
  {
   "cell_type": "code",
   "execution_count": null,
   "metadata": {},
   "outputs": [],
   "source": []
  },
  {
   "cell_type": "code",
   "execution_count": null,
   "metadata": {},
   "outputs": [],
   "source": []
  },
  {
   "cell_type": "code",
   "execution_count": 37,
   "metadata": {},
   "outputs": [
    {
     "data": {
      "text/plain": [
       "<UID:a9e8eaf9-c2ac-4418-bf22-8e0652c2184d>"
      ]
     },
     "execution_count": 37,
     "metadata": {},
     "output_type": "execute_result"
    }
   ],
   "source": [
    "x.id"
   ]
  },
  {
   "cell_type": "code",
   "execution_count": 38,
   "metadata": {},
   "outputs": [
    {
     "name": "stdout",
     "output_type": "stream",
     "text": [
      "the message is for me!!!\n"
     ]
    }
   ],
   "source": [
    "xp = x.send(alice_client)"
   ]
  },
  {
   "cell_type": "code",
   "execution_count": 39,
   "metadata": {},
   "outputs": [
    {
     "data": {
      "text/plain": [
       "<UID:a9e8eaf9-c2ac-4418-bf22-8e0652c2184d>"
      ]
     },
     "execution_count": 39,
     "metadata": {},
     "output_type": "execute_result"
    }
   ],
   "source": [
    "xp.id_at_location"
   ]
  },
  {
   "cell_type": "code",
   "execution_count": 40,
   "metadata": {},
   "outputs": [
    {
     "name": "stdout",
     "output_type": "stream",
     "text": [
      "id at location:<UID:821f4e5c-0e82-4f01-b2de-a09465064fdf>\n",
      "the message is for me!!!\n"
     ]
    }
   ],
   "source": [
    "y = xp + xp"
   ]
  },
  {
   "cell_type": "code",
   "execution_count": 41,
   "metadata": {},
   "outputs": [
    {
     "data": {
      "text/plain": [
       "tensor([2, 4, 6, 8])"
      ]
     },
     "execution_count": 41,
     "metadata": {},
     "output_type": "execute_result"
    }
   ],
   "source": [
    "y.get()"
   ]
  },
  {
   "cell_type": "code",
   "execution_count": 42,
   "metadata": {},
   "outputs": [
    {
     "data": {
      "text/plain": [
       "{<UID:a9e8eaf9-c2ac-4418-bf22-8e0652c2184d>: <Storable:tensor([1, 2, 3, 4])>}"
      ]
     },
     "execution_count": 42,
     "metadata": {},
     "output_type": "execute_result"
    }
   ],
   "source": [
    "alice.store"
   ]
  },
  {
   "cell_type": "code",
   "execution_count": 43,
   "metadata": {},
   "outputs": [],
   "source": [
    "del xp"
   ]
  },
  {
   "cell_type": "code",
   "execution_count": 44,
   "metadata": {},
   "outputs": [
    {
     "data": {
      "text/plain": [
       "{<UID:a9e8eaf9-c2ac-4418-bf22-8e0652c2184d>: <Storable:tensor([1, 2, 3, 4])>}"
      ]
     },
     "execution_count": 44,
     "metadata": {},
     "output_type": "execute_result"
    }
   ],
   "source": [
    "alice.store"
   ]
  },
  {
   "cell_type": "code",
   "execution_count": 45,
   "metadata": {},
   "outputs": [
    {
     "name": "stdout",
     "output_type": "stream",
     "text": [
      "call torch.zeros on client <VirtualMachineClient id:alice>\n",
      "the message is for me!!!\n"
     ]
    }
   ],
   "source": [
    "ptr = alice_client.torch.zeros(10,10)"
   ]
  },
  {
   "cell_type": "code",
   "execution_count": 46,
   "metadata": {},
   "outputs": [],
   "source": [
    "import numpy as np\n",
    "import syft as sy"
   ]
  },
  {
   "cell_type": "code",
   "execution_count": 47,
   "metadata": {},
   "outputs": [
    {
     "name": "stdout",
     "output_type": "stream",
     "text": [
      "assigning id:<UID:e227b792-ace0-4920-8c25-b9cb92e22b23> type:<class 'syft.lib.generic.ObjectConstructor.install_id_attribute.<locals>.OriginalConstructorSubclass'>\n",
      "the message is for me!!!\n"
     ]
    }
   ],
   "source": [
    "x = np.array([1,2,3,4]).send(alice_client)"
   ]
  },
  {
   "cell_type": "code",
   "execution_count": 48,
   "metadata": {},
   "outputs": [
    {
     "data": {
      "text/plain": [
       "OriginalConstructorSubclass([[[[ 2.00000000e+000,  2.00000000e+000,\n",
       "                                 1.05895010e-153,  2.13890927e+161],\n",
       "                               [ 2.34601258e-153,  2.63570224e+092,\n",
       "                                 6.29201311e+233,  6.09343068e-013],\n",
       "                               [ 4.94277337e+160,  4.82562168e+276,\n",
       "                                 1.11319014e+171,  2.64685963e+180]],\n",
       "\n",
       "                              [[ 7.68755624e+170,  2.51719506e+180,\n",
       "                                 4.65682141e+164,  4.97749602e+151],\n",
       "                               [ 2.33520274e+030,  3.43511257e+228,\n",
       "                                 1.02584502e+200,  3.45211702e+175],\n",
       "                               [ 7.06357831e-308,  0.00000000e+000,\n",
       "                                 2.00000000e+000, -1.73059638e-077]]]])"
      ]
     },
     "execution_count": 48,
     "metadata": {},
     "output_type": "execute_result"
    }
   ],
   "source": [
    "x.get()"
   ]
  },
  {
   "cell_type": "code",
   "execution_count": 49,
   "metadata": {},
   "outputs": [
    {
     "name": "stdout",
     "output_type": "stream",
     "text": [
      "assigning id:<UID:425d7182-3fd7-4563-af64-c873a1d584fe> type:<class 'syft.lib.generic.ObjectConstructor.install_id_attribute.<locals>.OriginalConstructorSubclass'>\n"
     ]
    }
   ],
   "source": [
    "x = np.array([1,2,3,4])"
   ]
  },
  {
   "cell_type": "code",
   "execution_count": 50,
   "metadata": {},
   "outputs": [
    {
     "name": "stdout",
     "output_type": "stream",
     "text": [
      "Wrapped tensor with id:<UID:425d7182-3fd7-4563-af64-c873a1d584fe>\n"
     ]
    },
    {
     "data": {
      "text/plain": [
       "id {\n",
       "  value: \"B]q\\202?\\327Ec\\257d\\310s\\241\\325\\204\\376\"\n",
       "}\n",
       "obj_type: \"syft.lib.numpy.tensor.NumpyTensorWrapper\"\n",
       "data {\n",
       "  type_url: \"type.googleapis.com/syft.lib.numpy.TensorProto\"\n",
       "  value: \"\\n\\004\\001\\002\\003\\004\\020\\r:\\300\\001\\000\\000\\000\\000\\000\\000\\000@\\000\\000\\000\\000\\000\\000\\000@\\r\\000size, *, DimnameList? names, ScalarType dtype=None, Layout layout=torch.strided, Device device=None, bool pin_memory=False, bool requires_grad=False)\\000\\000\\000\\000\\000\\000\\000\\000\\000\\000\\000\\000\\000\\000\\000\\000@w\\242\\222l\\371\\007\\000\\260\"\n",
       "}"
      ]
     },
     "execution_count": 50,
     "metadata": {},
     "output_type": "execute_result"
    }
   ],
   "source": [
    "x.serialize()"
   ]
  },
  {
   "cell_type": "code",
   "execution_count": null,
   "metadata": {},
   "outputs": [],
   "source": []
  },
  {
   "cell_type": "code",
   "execution_count": null,
   "metadata": {},
   "outputs": [],
   "source": []
  },
  {
   "cell_type": "code",
   "execution_count": null,
   "metadata": {},
   "outputs": [],
   "source": []
  },
  {
   "cell_type": "code",
   "execution_count": 51,
   "metadata": {},
   "outputs": [],
   "source": [
    "from sqlalchemy import create_engine\n",
    "\n",
    "engine = create_engine('sqlite:///:memory:', echo=True)"
   ]
  },
  {
   "cell_type": "code",
   "execution_count": 52,
   "metadata": {},
   "outputs": [],
   "source": [
    "from sqlalchemy.orm import sessionmaker\n",
    "\n",
    "Session = sessionmaker(bind=engine)\n",
    "session = Session()"
   ]
  },
  {
   "cell_type": "code",
   "execution_count": 53,
   "metadata": {},
   "outputs": [],
   "source": [
    "from sqlalchemy.ext.declarative import declarative_base\n",
    "\n",
    "Base = declarative_base()"
   ]
  },
  {
   "cell_type": "code",
   "execution_count": 54,
   "metadata": {},
   "outputs": [],
   "source": [
    "from sqlalchemy import Column, Integer, String\n",
    "\n",
    "class User(Base):\n",
    "    __tablename__ = 'users'\n",
    "\n",
    "    id = Column(Integer, primary_key=True)\n",
    "    name = Column(String)\n",
    "    password = Column(String)\n",
    "\n",
    "    def __repr__(self):\n",
    "        return f'User {self.name}'"
   ]
  },
  {
   "cell_type": "code",
   "execution_count": 55,
   "metadata": {},
   "outputs": [
    {
     "name": "stdout",
     "output_type": "stream",
     "text": [
      "2020-08-12 14:33:52,985 INFO sqlalchemy.engine.base.Engine SELECT CAST('test plain returns' AS VARCHAR(60)) AS anon_1\n",
      "2020-08-12 14:33:52,997 INFO sqlalchemy.engine.base.Engine ()\n",
      "2020-08-12 14:33:53,003 INFO sqlalchemy.engine.base.Engine SELECT CAST('test unicode returns' AS VARCHAR(60)) AS anon_1\n",
      "2020-08-12 14:33:53,006 INFO sqlalchemy.engine.base.Engine ()\n",
      "2020-08-12 14:33:53,011 INFO sqlalchemy.engine.base.Engine PRAGMA main.table_info(\"users\")\n",
      "2020-08-12 14:33:53,013 INFO sqlalchemy.engine.base.Engine ()\n",
      "2020-08-12 14:33:53,026 INFO sqlalchemy.engine.base.Engine PRAGMA temp.table_info(\"users\")\n",
      "2020-08-12 14:33:53,028 INFO sqlalchemy.engine.base.Engine ()\n",
      "2020-08-12 14:33:53,033 INFO sqlalchemy.engine.base.Engine \n",
      "CREATE TABLE users (\n",
      "\tid INTEGER NOT NULL, \n",
      "\tname VARCHAR, \n",
      "\tpassword VARCHAR, \n",
      "\tPRIMARY KEY (id)\n",
      ")\n",
      "\n",
      "\n",
      "2020-08-12 14:33:53,035 INFO sqlalchemy.engine.base.Engine ()\n",
      "2020-08-12 14:33:53,038 INFO sqlalchemy.engine.base.Engine COMMIT\n"
     ]
    }
   ],
   "source": [
    "Base.metadata.create_all(engine)"
   ]
  },
  {
   "cell_type": "code",
   "execution_count": 56,
   "metadata": {},
   "outputs": [
    {
     "name": "stdout",
     "output_type": "stream",
     "text": [
      "None\n"
     ]
    }
   ],
   "source": [
    "user = User(name='John Snow', password='johnspassword')\n",
    "session.add(user)\n",
    "\n",
    "print(user.id)  # None"
   ]
  },
  {
   "cell_type": "code",
   "execution_count": 57,
   "metadata": {},
   "outputs": [
    {
     "name": "stdout",
     "output_type": "stream",
     "text": [
      "2020-08-12 14:33:53,091 INFO sqlalchemy.engine.base.Engine BEGIN (implicit)\n",
      "2020-08-12 14:33:53,096 INFO sqlalchemy.engine.base.Engine INSERT INTO users (name, password) VALUES (?, ?)\n",
      "2020-08-12 14:33:53,098 INFO sqlalchemy.engine.base.Engine ('John Snow', 'johnspassword')\n",
      "2020-08-12 14:33:53,101 INFO sqlalchemy.engine.base.Engine COMMIT\n"
     ]
    }
   ],
   "source": [
    "session.commit()"
   ]
  },
  {
   "cell_type": "code",
   "execution_count": 58,
   "metadata": {},
   "outputs": [],
   "source": [
    "query = session.query(User).filter_by(name='John Snow')"
   ]
  },
  {
   "cell_type": "code",
   "execution_count": 59,
   "metadata": {},
   "outputs": [
    {
     "name": "stdout",
     "output_type": "stream",
     "text": [
      "2020-08-12 14:33:53,155 INFO sqlalchemy.engine.base.Engine BEGIN (implicit)\n",
      "2020-08-12 14:33:53,160 INFO sqlalchemy.engine.base.Engine SELECT count(*) AS count_1 \n",
      "FROM (SELECT users.id AS users_id, users.name AS users_name, users.password AS users_password \n",
      "FROM users \n",
      "WHERE users.name = ?) AS anon_1\n",
      "2020-08-12 14:33:53,162 INFO sqlalchemy.engine.base.Engine ('John Snow',)\n"
     ]
    },
    {
     "data": {
      "text/plain": [
       "1"
      ]
     },
     "execution_count": 59,
     "metadata": {},
     "output_type": "execute_result"
    }
   ],
   "source": [
    "query.count()"
   ]
  },
  {
   "cell_type": "code",
   "execution_count": null,
   "metadata": {},
   "outputs": [],
   "source": []
  }
 ],
 "metadata": {
  "kernelspec": {
   "display_name": "Python 3",
   "language": "python",
   "name": "python3"
  },
  "language_info": {
   "codemirror_mode": {
    "name": "ipython",
    "version": 3
   },
   "file_extension": ".py",
   "mimetype": "text/x-python",
   "name": "python",
   "nbconvert_exporter": "python",
   "pygments_lexer": "ipython3",
   "version": "3.8.1"
  }
 },
 "nbformat": 4,
 "nbformat_minor": 4
}
